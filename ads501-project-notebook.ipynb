{
 "cells": [
  {
   "cell_type": "markdown",
   "id": "0f0ee23d-71c9-493c-b4ba-832c436b7cbc",
   "metadata": {},
   "source": [
    "# Consulting Project\n",
    "## Group 3"
   ]
  },
  {
   "cell_type": "code",
   "execution_count": 1,
   "id": "fdc068fe-03ac-40bb-acd4-e745cab87c10",
   "metadata": {},
   "outputs": [],
   "source": [
    "import pandas as pd\n",
    "import numpy as np"
   ]
  },
  {
   "cell_type": "code",
   "execution_count": 2,
   "id": "f7824f50-a88c-4f21-8997-daf5e805f84e",
   "metadata": {},
   "outputs": [],
   "source": [
    "df = pd.read_csv('Loan_Default.csv')"
   ]
  },
  {
   "cell_type": "code",
   "execution_count": 3,
   "id": "7b03908c-f155-4497-923c-987e63636a6e",
   "metadata": {},
   "outputs": [
    {
     "data": {
      "text/html": [
       "<div>\n",
       "<style scoped>\n",
       "    .dataframe tbody tr th:only-of-type {\n",
       "        vertical-align: middle;\n",
       "    }\n",
       "\n",
       "    .dataframe tbody tr th {\n",
       "        vertical-align: top;\n",
       "    }\n",
       "\n",
       "    .dataframe thead th {\n",
       "        text-align: right;\n",
       "    }\n",
       "</style>\n",
       "<table border=\"1\" class=\"dataframe\">\n",
       "  <thead>\n",
       "    <tr style=\"text-align: right;\">\n",
       "      <th></th>\n",
       "      <th>ID</th>\n",
       "      <th>year</th>\n",
       "      <th>loan_limit</th>\n",
       "      <th>Gender</th>\n",
       "      <th>approv_in_adv</th>\n",
       "      <th>loan_type</th>\n",
       "      <th>loan_purpose</th>\n",
       "      <th>Credit_Worthiness</th>\n",
       "      <th>open_credit</th>\n",
       "      <th>business_or_commercial</th>\n",
       "      <th>...</th>\n",
       "      <th>credit_type</th>\n",
       "      <th>Credit_Score</th>\n",
       "      <th>co-applicant_credit_type</th>\n",
       "      <th>age</th>\n",
       "      <th>submission_of_application</th>\n",
       "      <th>LTV</th>\n",
       "      <th>Region</th>\n",
       "      <th>Security_Type</th>\n",
       "      <th>Status</th>\n",
       "      <th>dtir1</th>\n",
       "    </tr>\n",
       "  </thead>\n",
       "  <tbody>\n",
       "    <tr>\n",
       "      <th>0</th>\n",
       "      <td>24890</td>\n",
       "      <td>2019</td>\n",
       "      <td>cf</td>\n",
       "      <td>Sex Not Available</td>\n",
       "      <td>nopre</td>\n",
       "      <td>type1</td>\n",
       "      <td>p1</td>\n",
       "      <td>l1</td>\n",
       "      <td>nopc</td>\n",
       "      <td>nob/c</td>\n",
       "      <td>...</td>\n",
       "      <td>EXP</td>\n",
       "      <td>758</td>\n",
       "      <td>CIB</td>\n",
       "      <td>25-34</td>\n",
       "      <td>to_inst</td>\n",
       "      <td>98.728814</td>\n",
       "      <td>south</td>\n",
       "      <td>direct</td>\n",
       "      <td>1</td>\n",
       "      <td>45.0</td>\n",
       "    </tr>\n",
       "    <tr>\n",
       "      <th>1</th>\n",
       "      <td>24891</td>\n",
       "      <td>2019</td>\n",
       "      <td>cf</td>\n",
       "      <td>Male</td>\n",
       "      <td>nopre</td>\n",
       "      <td>type2</td>\n",
       "      <td>p1</td>\n",
       "      <td>l1</td>\n",
       "      <td>nopc</td>\n",
       "      <td>b/c</td>\n",
       "      <td>...</td>\n",
       "      <td>EQUI</td>\n",
       "      <td>552</td>\n",
       "      <td>EXP</td>\n",
       "      <td>55-64</td>\n",
       "      <td>to_inst</td>\n",
       "      <td>NaN</td>\n",
       "      <td>North</td>\n",
       "      <td>direct</td>\n",
       "      <td>1</td>\n",
       "      <td>NaN</td>\n",
       "    </tr>\n",
       "    <tr>\n",
       "      <th>2</th>\n",
       "      <td>24892</td>\n",
       "      <td>2019</td>\n",
       "      <td>cf</td>\n",
       "      <td>Male</td>\n",
       "      <td>pre</td>\n",
       "      <td>type1</td>\n",
       "      <td>p1</td>\n",
       "      <td>l1</td>\n",
       "      <td>nopc</td>\n",
       "      <td>nob/c</td>\n",
       "      <td>...</td>\n",
       "      <td>EXP</td>\n",
       "      <td>834</td>\n",
       "      <td>CIB</td>\n",
       "      <td>35-44</td>\n",
       "      <td>to_inst</td>\n",
       "      <td>80.019685</td>\n",
       "      <td>south</td>\n",
       "      <td>direct</td>\n",
       "      <td>0</td>\n",
       "      <td>46.0</td>\n",
       "    </tr>\n",
       "    <tr>\n",
       "      <th>3</th>\n",
       "      <td>24893</td>\n",
       "      <td>2019</td>\n",
       "      <td>cf</td>\n",
       "      <td>Male</td>\n",
       "      <td>nopre</td>\n",
       "      <td>type1</td>\n",
       "      <td>p4</td>\n",
       "      <td>l1</td>\n",
       "      <td>nopc</td>\n",
       "      <td>nob/c</td>\n",
       "      <td>...</td>\n",
       "      <td>EXP</td>\n",
       "      <td>587</td>\n",
       "      <td>CIB</td>\n",
       "      <td>45-54</td>\n",
       "      <td>not_inst</td>\n",
       "      <td>69.376900</td>\n",
       "      <td>North</td>\n",
       "      <td>direct</td>\n",
       "      <td>0</td>\n",
       "      <td>42.0</td>\n",
       "    </tr>\n",
       "    <tr>\n",
       "      <th>4</th>\n",
       "      <td>24894</td>\n",
       "      <td>2019</td>\n",
       "      <td>cf</td>\n",
       "      <td>Joint</td>\n",
       "      <td>pre</td>\n",
       "      <td>type1</td>\n",
       "      <td>p1</td>\n",
       "      <td>l1</td>\n",
       "      <td>nopc</td>\n",
       "      <td>nob/c</td>\n",
       "      <td>...</td>\n",
       "      <td>CRIF</td>\n",
       "      <td>602</td>\n",
       "      <td>EXP</td>\n",
       "      <td>25-34</td>\n",
       "      <td>not_inst</td>\n",
       "      <td>91.886544</td>\n",
       "      <td>North</td>\n",
       "      <td>direct</td>\n",
       "      <td>0</td>\n",
       "      <td>39.0</td>\n",
       "    </tr>\n",
       "  </tbody>\n",
       "</table>\n",
       "<p>5 rows × 34 columns</p>\n",
       "</div>"
      ],
      "text/plain": [
       "      ID  year loan_limit             Gender approv_in_adv loan_type  \\\n",
       "0  24890  2019         cf  Sex Not Available         nopre     type1   \n",
       "1  24891  2019         cf               Male         nopre     type2   \n",
       "2  24892  2019         cf               Male           pre     type1   \n",
       "3  24893  2019         cf               Male         nopre     type1   \n",
       "4  24894  2019         cf              Joint           pre     type1   \n",
       "\n",
       "  loan_purpose Credit_Worthiness open_credit business_or_commercial  ...  \\\n",
       "0           p1                l1        nopc                  nob/c  ...   \n",
       "1           p1                l1        nopc                    b/c  ...   \n",
       "2           p1                l1        nopc                  nob/c  ...   \n",
       "3           p4                l1        nopc                  nob/c  ...   \n",
       "4           p1                l1        nopc                  nob/c  ...   \n",
       "\n",
       "   credit_type  Credit_Score  co-applicant_credit_type    age  \\\n",
       "0          EXP           758                       CIB  25-34   \n",
       "1         EQUI           552                       EXP  55-64   \n",
       "2          EXP           834                       CIB  35-44   \n",
       "3          EXP           587                       CIB  45-54   \n",
       "4         CRIF           602                       EXP  25-34   \n",
       "\n",
       "   submission_of_application        LTV Region Security_Type  Status dtir1  \n",
       "0                    to_inst  98.728814  south        direct       1  45.0  \n",
       "1                    to_inst        NaN  North        direct       1   NaN  \n",
       "2                    to_inst  80.019685  south        direct       0  46.0  \n",
       "3                   not_inst  69.376900  North        direct       0  42.0  \n",
       "4                   not_inst  91.886544  North        direct       0  39.0  \n",
       "\n",
       "[5 rows x 34 columns]"
      ]
     },
     "execution_count": 3,
     "metadata": {},
     "output_type": "execute_result"
    }
   ],
   "source": [
    "df.head()"
   ]
  },
  {
   "cell_type": "code",
   "execution_count": 4,
   "id": "bfbe2a0a-0495-495d-a913-f643446c84cf",
   "metadata": {},
   "outputs": [
    {
     "data": {
      "text/plain": [
       "Index(['ID', 'year', 'loan_limit', 'Gender', 'approv_in_adv', 'loan_type',\n",
       "       'loan_purpose', 'Credit_Worthiness', 'open_credit',\n",
       "       'business_or_commercial', 'loan_amount', 'rate_of_interest',\n",
       "       'Interest_rate_spread', 'Upfront_charges', 'term', 'Neg_ammortization',\n",
       "       'interest_only', 'lump_sum_payment', 'property_value',\n",
       "       'construction_type', 'occupancy_type', 'Secured_by', 'total_units',\n",
       "       'income', 'credit_type', 'Credit_Score', 'co-applicant_credit_type',\n",
       "       'age', 'submission_of_application', 'LTV', 'Region', 'Security_Type',\n",
       "       'Status', 'dtir1'],\n",
       "      dtype='object')"
      ]
     },
     "execution_count": 4,
     "metadata": {},
     "output_type": "execute_result"
    }
   ],
   "source": [
    "df.columns"
   ]
  },
  {
   "cell_type": "code",
   "execution_count": 5,
   "id": "cf6c2e43-5ec3-4f11-9dfd-82b1dc9fdb59",
   "metadata": {},
   "outputs": [
    {
     "data": {
      "text/html": [
       "<div>\n",
       "<style scoped>\n",
       "    .dataframe tbody tr th:only-of-type {\n",
       "        vertical-align: middle;\n",
       "    }\n",
       "\n",
       "    .dataframe tbody tr th {\n",
       "        vertical-align: top;\n",
       "    }\n",
       "\n",
       "    .dataframe thead th {\n",
       "        text-align: right;\n",
       "    }\n",
       "</style>\n",
       "<table border=\"1\" class=\"dataframe\">\n",
       "  <thead>\n",
       "    <tr style=\"text-align: right;\">\n",
       "      <th></th>\n",
       "      <th>ID</th>\n",
       "      <th>year</th>\n",
       "      <th>loan_amount</th>\n",
       "      <th>rate_of_interest</th>\n",
       "      <th>Interest_rate_spread</th>\n",
       "      <th>Upfront_charges</th>\n",
       "      <th>term</th>\n",
       "      <th>property_value</th>\n",
       "      <th>income</th>\n",
       "      <th>Credit_Score</th>\n",
       "      <th>LTV</th>\n",
       "      <th>Status</th>\n",
       "      <th>dtir1</th>\n",
       "    </tr>\n",
       "  </thead>\n",
       "  <tbody>\n",
       "    <tr>\n",
       "      <th>count</th>\n",
       "      <td>148670.000000</td>\n",
       "      <td>148670.0</td>\n",
       "      <td>1.486700e+05</td>\n",
       "      <td>112231.000000</td>\n",
       "      <td>112031.000000</td>\n",
       "      <td>109028.000000</td>\n",
       "      <td>148629.000000</td>\n",
       "      <td>1.335720e+05</td>\n",
       "      <td>139520.000000</td>\n",
       "      <td>148670.000000</td>\n",
       "      <td>133572.000000</td>\n",
       "      <td>148670.000000</td>\n",
       "      <td>124549.000000</td>\n",
       "    </tr>\n",
       "    <tr>\n",
       "      <th>mean</th>\n",
       "      <td>99224.500000</td>\n",
       "      <td>2019.0</td>\n",
       "      <td>3.311177e+05</td>\n",
       "      <td>4.045476</td>\n",
       "      <td>0.441656</td>\n",
       "      <td>3224.996127</td>\n",
       "      <td>335.136582</td>\n",
       "      <td>4.978935e+05</td>\n",
       "      <td>6957.338876</td>\n",
       "      <td>699.789103</td>\n",
       "      <td>72.746457</td>\n",
       "      <td>0.246445</td>\n",
       "      <td>37.732932</td>\n",
       "    </tr>\n",
       "    <tr>\n",
       "      <th>std</th>\n",
       "      <td>42917.476598</td>\n",
       "      <td>0.0</td>\n",
       "      <td>1.839093e+05</td>\n",
       "      <td>0.561391</td>\n",
       "      <td>0.513043</td>\n",
       "      <td>3251.121510</td>\n",
       "      <td>58.409084</td>\n",
       "      <td>3.599353e+05</td>\n",
       "      <td>6496.586382</td>\n",
       "      <td>115.875857</td>\n",
       "      <td>39.967603</td>\n",
       "      <td>0.430942</td>\n",
       "      <td>10.545435</td>\n",
       "    </tr>\n",
       "    <tr>\n",
       "      <th>min</th>\n",
       "      <td>24890.000000</td>\n",
       "      <td>2019.0</td>\n",
       "      <td>1.650000e+04</td>\n",
       "      <td>0.000000</td>\n",
       "      <td>-3.638000</td>\n",
       "      <td>0.000000</td>\n",
       "      <td>96.000000</td>\n",
       "      <td>8.000000e+03</td>\n",
       "      <td>0.000000</td>\n",
       "      <td>500.000000</td>\n",
       "      <td>0.967478</td>\n",
       "      <td>0.000000</td>\n",
       "      <td>5.000000</td>\n",
       "    </tr>\n",
       "    <tr>\n",
       "      <th>25%</th>\n",
       "      <td>62057.250000</td>\n",
       "      <td>2019.0</td>\n",
       "      <td>1.965000e+05</td>\n",
       "      <td>3.625000</td>\n",
       "      <td>0.076000</td>\n",
       "      <td>581.490000</td>\n",
       "      <td>360.000000</td>\n",
       "      <td>2.680000e+05</td>\n",
       "      <td>3720.000000</td>\n",
       "      <td>599.000000</td>\n",
       "      <td>60.474860</td>\n",
       "      <td>0.000000</td>\n",
       "      <td>31.000000</td>\n",
       "    </tr>\n",
       "    <tr>\n",
       "      <th>50%</th>\n",
       "      <td>99224.500000</td>\n",
       "      <td>2019.0</td>\n",
       "      <td>2.965000e+05</td>\n",
       "      <td>3.990000</td>\n",
       "      <td>0.390400</td>\n",
       "      <td>2596.450000</td>\n",
       "      <td>360.000000</td>\n",
       "      <td>4.180000e+05</td>\n",
       "      <td>5760.000000</td>\n",
       "      <td>699.000000</td>\n",
       "      <td>75.135870</td>\n",
       "      <td>0.000000</td>\n",
       "      <td>39.000000</td>\n",
       "    </tr>\n",
       "    <tr>\n",
       "      <th>75%</th>\n",
       "      <td>136391.750000</td>\n",
       "      <td>2019.0</td>\n",
       "      <td>4.365000e+05</td>\n",
       "      <td>4.375000</td>\n",
       "      <td>0.775400</td>\n",
       "      <td>4812.500000</td>\n",
       "      <td>360.000000</td>\n",
       "      <td>6.280000e+05</td>\n",
       "      <td>8520.000000</td>\n",
       "      <td>800.000000</td>\n",
       "      <td>86.184211</td>\n",
       "      <td>0.000000</td>\n",
       "      <td>45.000000</td>\n",
       "    </tr>\n",
       "    <tr>\n",
       "      <th>max</th>\n",
       "      <td>173559.000000</td>\n",
       "      <td>2019.0</td>\n",
       "      <td>3.576500e+06</td>\n",
       "      <td>8.000000</td>\n",
       "      <td>3.357000</td>\n",
       "      <td>60000.000000</td>\n",
       "      <td>360.000000</td>\n",
       "      <td>1.650800e+07</td>\n",
       "      <td>578580.000000</td>\n",
       "      <td>900.000000</td>\n",
       "      <td>7831.250000</td>\n",
       "      <td>1.000000</td>\n",
       "      <td>61.000000</td>\n",
       "    </tr>\n",
       "  </tbody>\n",
       "</table>\n",
       "</div>"
      ],
      "text/plain": [
       "                  ID      year   loan_amount  rate_of_interest  \\\n",
       "count  148670.000000  148670.0  1.486700e+05     112231.000000   \n",
       "mean    99224.500000    2019.0  3.311177e+05          4.045476   \n",
       "std     42917.476598       0.0  1.839093e+05          0.561391   \n",
       "min     24890.000000    2019.0  1.650000e+04          0.000000   \n",
       "25%     62057.250000    2019.0  1.965000e+05          3.625000   \n",
       "50%     99224.500000    2019.0  2.965000e+05          3.990000   \n",
       "75%    136391.750000    2019.0  4.365000e+05          4.375000   \n",
       "max    173559.000000    2019.0  3.576500e+06          8.000000   \n",
       "\n",
       "       Interest_rate_spread  Upfront_charges           term  property_value  \\\n",
       "count         112031.000000    109028.000000  148629.000000    1.335720e+05   \n",
       "mean               0.441656      3224.996127     335.136582    4.978935e+05   \n",
       "std                0.513043      3251.121510      58.409084    3.599353e+05   \n",
       "min               -3.638000         0.000000      96.000000    8.000000e+03   \n",
       "25%                0.076000       581.490000     360.000000    2.680000e+05   \n",
       "50%                0.390400      2596.450000     360.000000    4.180000e+05   \n",
       "75%                0.775400      4812.500000     360.000000    6.280000e+05   \n",
       "max                3.357000     60000.000000     360.000000    1.650800e+07   \n",
       "\n",
       "              income   Credit_Score            LTV         Status  \\\n",
       "count  139520.000000  148670.000000  133572.000000  148670.000000   \n",
       "mean     6957.338876     699.789103      72.746457       0.246445   \n",
       "std      6496.586382     115.875857      39.967603       0.430942   \n",
       "min         0.000000     500.000000       0.967478       0.000000   \n",
       "25%      3720.000000     599.000000      60.474860       0.000000   \n",
       "50%      5760.000000     699.000000      75.135870       0.000000   \n",
       "75%      8520.000000     800.000000      86.184211       0.000000   \n",
       "max    578580.000000     900.000000    7831.250000       1.000000   \n",
       "\n",
       "               dtir1  \n",
       "count  124549.000000  \n",
       "mean       37.732932  \n",
       "std        10.545435  \n",
       "min         5.000000  \n",
       "25%        31.000000  \n",
       "50%        39.000000  \n",
       "75%        45.000000  \n",
       "max        61.000000  "
      ]
     },
     "execution_count": 5,
     "metadata": {},
     "output_type": "execute_result"
    }
   ],
   "source": [
    "df.describe()"
   ]
  },
  {
   "cell_type": "code",
   "execution_count": 6,
   "id": "616bbe06-099a-4600-a376-b207578ca8c4",
   "metadata": {},
   "outputs": [],
   "source": [
    "# Nulls\n",
    "null_df = pd.DataFrame(df.isnull().sum())"
   ]
  },
  {
   "cell_type": "code",
   "execution_count": 7,
   "id": "b031b5ae-9909-464a-b419-265f748445e3",
   "metadata": {},
   "outputs": [],
   "source": [
    "null_df = null_df[ null_df[0] != 0]\n",
    "null_df.to_excel('null_table..xlsx')"
   ]
  },
  {
   "cell_type": "code",
   "execution_count": 8,
   "id": "052b2f04-4f43-4f1e-b1ea-8073d081b4ea",
   "metadata": {},
   "outputs": [
    {
     "name": "stdout",
     "output_type": "stream",
     "text": [
      "                         count           mean            std           min  \\\n",
      "loan_amount           148670.0  331117.743997  183909.310127  16500.000000   \n",
      "rate_of_interest      112231.0       4.045476       0.561391      0.000000   \n",
      "Interest_rate_spread  112031.0       0.441656       0.513043     -3.638000   \n",
      "Upfront_charges       109028.0    3224.996127    3251.121510      0.000000   \n",
      "term                  148629.0     335.136582      58.409084     96.000000   \n",
      "property_value        133572.0  497893.465696  359935.315562   8000.000000   \n",
      "income                139520.0    6957.338876    6496.586382      0.000000   \n",
      "Credit_Score          148670.0     699.789103     115.875857    500.000000   \n",
      "LTV                   133572.0      72.746457      39.967603      0.967478   \n",
      "dtir1                 124549.0      37.732932      10.545435      5.000000   \n",
      "\n",
      "                               25%           50%            75%           max  \n",
      "loan_amount           196500.00000  296500.00000  436500.000000  3.576500e+06  \n",
      "rate_of_interest           3.62500       3.99000       4.375000  8.000000e+00  \n",
      "Interest_rate_spread       0.07600       0.39040       0.775400  3.357000e+00  \n",
      "Upfront_charges          581.49000    2596.45000    4812.500000  6.000000e+04  \n",
      "term                     360.00000     360.00000     360.000000  3.600000e+02  \n",
      "property_value        268000.00000  418000.00000  628000.000000  1.650800e+07  \n",
      "income                  3720.00000    5760.00000    8520.000000  5.785800e+05  \n",
      "Credit_Score             599.00000     699.00000     800.000000  9.000000e+02  \n",
      "LTV                       60.47486      75.13587      86.184211  7.831250e+03  \n",
      "dtir1                     31.00000      39.00000      45.000000  6.100000e+01  \n"
     ]
    }
   ],
   "source": [
    "describe_numeric_df = pd.DataFrame(df.iloc[:, 2:].drop('Status', axis=1).describe(include='number').T)\n",
    "print(describe_numeric_df)"
   ]
  },
  {
   "cell_type": "code",
   "execution_count": 9,
   "id": "81d5fb1b-9fb9-44bc-ae84-a2f573620cd0",
   "metadata": {},
   "outputs": [],
   "source": [
    "describe_numeric_df.to_excel('describe_result.xlsx')"
   ]
  },
  {
   "cell_type": "code",
   "execution_count": 10,
   "id": "b608bff5-5f82-4e87-b4a5-db950fee1250",
   "metadata": {},
   "outputs": [
    {
     "data": {
      "text/plain": [
       "year\n",
       "2019    148670\n",
       "Name: count, dtype: int64"
      ]
     },
     "execution_count": 10,
     "metadata": {},
     "output_type": "execute_result"
    }
   ],
   "source": [
    "df['year'].value_counts()"
   ]
  },
  {
   "cell_type": "code",
   "execution_count": 11,
   "id": "2e50be85-dc4a-4f14-b575-4d6730438ffd",
   "metadata": {},
   "outputs": [
    {
     "data": {
      "text/plain": [
       "148670"
      ]
     },
     "execution_count": 11,
     "metadata": {},
     "output_type": "execute_result"
    }
   ],
   "source": [
    "df.shape[0]"
   ]
  },
  {
   "cell_type": "code",
   "execution_count": 12,
   "id": "30e21e00-d609-4ddd-b1ef-b9cb017e8ca1",
   "metadata": {},
   "outputs": [
    {
     "data": {
      "text/plain": [
       "34"
      ]
     },
     "execution_count": 12,
     "metadata": {},
     "output_type": "execute_result"
    }
   ],
   "source": [
    "df.shape[1]"
   ]
  },
  {
   "cell_type": "code",
   "execution_count": 13,
   "id": "fb87da7a-38a7-4b0e-9561-4b216ed44c3a",
   "metadata": {},
   "outputs": [
    {
     "data": {
      "text/plain": [
       "ID                             int64\n",
       "year                           int64\n",
       "loan_limit                    object\n",
       "Gender                        object\n",
       "approv_in_adv                 object\n",
       "loan_type                     object\n",
       "loan_purpose                  object\n",
       "Credit_Worthiness             object\n",
       "open_credit                   object\n",
       "business_or_commercial        object\n",
       "loan_amount                    int64\n",
       "rate_of_interest             float64\n",
       "Interest_rate_spread         float64\n",
       "Upfront_charges              float64\n",
       "term                         float64\n",
       "Neg_ammortization             object\n",
       "interest_only                 object\n",
       "lump_sum_payment              object\n",
       "property_value               float64\n",
       "construction_type             object\n",
       "occupancy_type                object\n",
       "Secured_by                    object\n",
       "total_units                   object\n",
       "income                       float64\n",
       "credit_type                   object\n",
       "Credit_Score                   int64\n",
       "co-applicant_credit_type      object\n",
       "age                           object\n",
       "submission_of_application     object\n",
       "LTV                          float64\n",
       "Region                        object\n",
       "Security_Type                 object\n",
       "Status                         int64\n",
       "dtir1                        float64\n",
       "dtype: object"
      ]
     },
     "execution_count": 13,
     "metadata": {},
     "output_type": "execute_result"
    }
   ],
   "source": [
    "df.dtypes"
   ]
  },
  {
   "cell_type": "code",
   "execution_count": 14,
   "id": "4ac1b16e-a9ca-4b70-bd87-6fe07c038443",
   "metadata": {},
   "outputs": [
    {
     "data": {
      "text/plain": [
       "array(['Sex Not Available', 'Male', 'Joint', 'Female'], dtype=object)"
      ]
     },
     "execution_count": 14,
     "metadata": {},
     "output_type": "execute_result"
    }
   ],
   "source": [
    "df['Gender'].unique()"
   ]
  },
  {
   "cell_type": "code",
   "execution_count": 15,
   "id": "0ac15ac3-ac46-480e-8332-7a99547a4287",
   "metadata": {},
   "outputs": [
    {
     "data": {
      "text/plain": [
       "ID                               0\n",
       "year                             0\n",
       "loan_limit                    3344\n",
       "Gender                           0\n",
       "approv_in_adv                  908\n",
       "loan_type                        0\n",
       "loan_purpose                   134\n",
       "Credit_Worthiness                0\n",
       "open_credit                      0\n",
       "business_or_commercial           0\n",
       "loan_amount                      0\n",
       "rate_of_interest             36439\n",
       "Interest_rate_spread         36639\n",
       "Upfront_charges              39642\n",
       "term                            41\n",
       "Neg_ammortization              121\n",
       "interest_only                    0\n",
       "lump_sum_payment                 0\n",
       "property_value               15098\n",
       "construction_type                0\n",
       "occupancy_type                   0\n",
       "Secured_by                       0\n",
       "total_units                      0\n",
       "income                        9150\n",
       "credit_type                      0\n",
       "Credit_Score                     0\n",
       "co-applicant_credit_type         0\n",
       "age                            200\n",
       "submission_of_application      200\n",
       "LTV                          15098\n",
       "Region                           0\n",
       "Security_Type                    0\n",
       "Status                           0\n",
       "dtir1                        24121\n",
       "dtype: int64"
      ]
     },
     "execution_count": 15,
     "metadata": {},
     "output_type": "execute_result"
    }
   ],
   "source": [
    "df.isnull().sum()"
   ]
  },
  {
   "cell_type": "code",
   "execution_count": 16,
   "id": "2001786a-9530-40de-a005-47153e6f1d2d",
   "metadata": {},
   "outputs": [
    {
     "data": {
      "text/plain": [
       "2"
      ]
     },
     "execution_count": 16,
     "metadata": {},
     "output_type": "execute_result"
    }
   ],
   "source": [
    "df['Status'].nunique()"
   ]
  },
  {
   "cell_type": "markdown",
   "id": "9193fb41-474e-4007-a80f-0c1e83d25395",
   "metadata": {},
   "source": [
    "## Data Cleaning"
   ]
  },
  {
   "cell_type": "code",
   "execution_count": 17,
   "id": "b59ff7a7-25ab-4bb8-9f3e-bf442ddfb2da",
   "metadata": {},
   "outputs": [],
   "source": [
    "# Get numeric column names\n",
    "numeric_columns = df.select_dtypes(include='number').columns.tolist()\n",
    "\n",
    "#Get non-numeric colums\n",
    "non_numeric_columns = [col for col in df.columns.tolist() if col not in numeric_columns]"
   ]
  },
  {
   "cell_type": "code",
   "execution_count": 23,
   "id": "a1b5ec30-cb63-4b50-9581-9a904d35d087",
   "metadata": {},
   "outputs": [],
   "source": [
    "# Imputate values with mean column value for numeric variables\n",
    "# Except term -- Mode\n",
    "for col in numeric_columns:\n",
    "    if df[col].isnull().sum() != 0 and col != 'term':\n",
    "        col_mean = df[col].mean()\n",
    "        df.fillna({col: col_mean}, inplace=True)\n",
    "\n",
    "# Handle term here\n",
    "col_mode = df['term'].mode()[0]\n",
    "df.fillna({'term': col_mode}, inplace=True)\n",
    "\n",
    "# Imputate values with mode column value for non-numerical variables\n",
    "for col in non_numeric_columns:\n",
    "    if df[col].isnull().sum() != 0:\n",
    "        col_mode = df[col].mode()[0]\n",
    "        df.fillna({col: col_mode}, inplace=True)"
   ]
  },
  {
   "cell_type": "code",
   "execution_count": 24,
   "id": "a31b67d3-5cca-4b0d-988f-6fe8f3673131",
   "metadata": {},
   "outputs": [
    {
     "data": {
      "text/plain": [
       "ID                           0\n",
       "year                         0\n",
       "loan_limit                   0\n",
       "Gender                       0\n",
       "approv_in_adv                0\n",
       "loan_type                    0\n",
       "loan_purpose                 0\n",
       "Credit_Worthiness            0\n",
       "open_credit                  0\n",
       "business_or_commercial       0\n",
       "loan_amount                  0\n",
       "rate_of_interest             0\n",
       "Interest_rate_spread         0\n",
       "Upfront_charges              0\n",
       "term                         0\n",
       "Neg_ammortization            0\n",
       "interest_only                0\n",
       "lump_sum_payment             0\n",
       "property_value               0\n",
       "construction_type            0\n",
       "occupancy_type               0\n",
       "Secured_by                   0\n",
       "total_units                  0\n",
       "income                       0\n",
       "credit_type                  0\n",
       "Credit_Score                 0\n",
       "co-applicant_credit_type     0\n",
       "age                          0\n",
       "submission_of_application    0\n",
       "LTV                          0\n",
       "Region                       0\n",
       "Security_Type                0\n",
       "Status                       0\n",
       "dtir1                        0\n",
       "dtype: int64"
      ]
     },
     "execution_count": 24,
     "metadata": {},
     "output_type": "execute_result"
    }
   ],
   "source": [
    "# Check results\n",
    "df.isnull().sum()"
   ]
  }
 ],
 "metadata": {
  "kernelspec": {
   "display_name": "Python 3 (ipykernel)",
   "language": "python",
   "name": "python3"
  },
  "language_info": {
   "codemirror_mode": {
    "name": "ipython",
    "version": 3
   },
   "file_extension": ".py",
   "mimetype": "text/x-python",
   "name": "python",
   "nbconvert_exporter": "python",
   "pygments_lexer": "ipython3",
   "version": "3.13.0"
  }
 },
 "nbformat": 4,
 "nbformat_minor": 5
}
